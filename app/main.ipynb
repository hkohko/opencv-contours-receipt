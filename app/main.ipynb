{
 "cells": [
  {
   "cell_type": "code",
   "execution_count": null,
   "metadata": {},
   "outputs": [],
   "source": [
    "import cv2 as cv\n",
    "from os import getcwd\n",
    "from os.path import dirname\n",
    "import matplotlib.pyplot as plt\n"
   ]
  },
  {
   "cell_type": "code",
   "execution_count": null,
   "metadata": {},
   "outputs": [],
   "source": [
    "image = rf\"{dirname(getcwd())}\\multiple_imgs_2.jpg\"\n",
    "print(image)\n",
    "assert image is not None, \"image not found\""
   ]
  },
  {
   "cell_type": "code",
   "execution_count": null,
   "metadata": {},
   "outputs": [],
   "source": [
    "\"\"\"\n",
    "Add gaussian blur to get rid of unnecessary edges\n",
    "\"\"\"\n",
    "cv_img = cv.imread(image)\n",
    "cv_img_rotated = cv.rotate(cv_img, cv.ROTATE_90_CLOCKWISE)\n",
    "img = cv.rotate(cv_img.copy(), cv.ROTATE_90_CLOCKWISE)\n",
    "img_rgb = cv.cvtColor(img, cv.COLOR_BGR2GRAY)\n",
    "blur = cv.GaussianBlur(img_rgb, tuple(31 for _ in range(2)), 8)  # get rid of unnecessary edges\n",
    "plt.imshow(blur)"
   ]
  },
  {
   "cell_type": "code",
   "execution_count": null,
   "metadata": {},
   "outputs": [],
   "source": [
    "\"\"\"\n",
    "Create a mask\n",
    "\"\"\"\n",
    "low = 95\n",
    "max_num = 255\n",
    "lower_thresh = tuple(low for _ in range(3))\n",
    "max_thresh = tuple(max_num for _ in range(3))\n",
    "# thresh = cv.inRange(blur, lower_thresh, max_thresh)\n",
    "_, thresh = cv.threshold(blur, low, max_num, cv.THRESH_BINARY)\n",
    "plt.imshow(thresh, \"gray\")"
   ]
  },
  {
   "cell_type": "code",
   "execution_count": null,
   "metadata": {},
   "outputs": [],
   "source": [
    "\"\"\"\n",
    "find the contours\n",
    "\"\"\"\n",
    "\n",
    "cont, hierarchy = cv.findContours(thresh, cv.RETR_EXTERNAL, cv.CHAIN_APPROX_NONE)\n",
    "print(f\"number of images: {len(cont)}\")  # this should match the number of receipts on the scanner\n",
    "cont_image = cv.drawContours(img, cont, -1, 255, 3)\n",
    "\n",
    "plt.imshow(cont_image, \"gray\")"
   ]
  },
  {
   "cell_type": "code",
   "execution_count": null,
   "metadata": {},
   "outputs": [],
   "source": [
    "\"\"\"\n",
    "create a bounding box for each contours, and extract image inside that bounding box\n",
    "\"\"\"\n",
    "def save_images():\n",
    "    idx = 0\n",
    "    for c in cont:\n",
    "        idx += 1\n",
    "        x, y, w, h = cv.boundingRect(c)\n",
    "        cv.rectangle(cont_image,(x,y), (x+w,y+h), (0,255,0), 2)\n",
    "        roi=cv_img_rotated[y:y+h,x:x+w]\n",
    "        cv.imwrite(str(idx) + '.jpg', roi)\n",
    "# cv.imshow('All contours with bounding box', cont_image)\n",
    "# cv.waitKey(0)"
   ]
  }
 ],
 "metadata": {
  "kernelspec": {
   "display_name": "opencv-extract-image",
   "language": "python",
   "name": "python3"
  },
  "language_info": {
   "codemirror_mode": {
    "name": "ipython",
    "version": 3
   },
   "file_extension": ".py",
   "mimetype": "text/x-python",
   "name": "python",
   "nbconvert_exporter": "python",
   "pygments_lexer": "ipython3",
   "version": "3.11.2"
  },
  "orig_nbformat": 4
 },
 "nbformat": 4,
 "nbformat_minor": 2
}
